{
 "cells": [
  {
   "cell_type": "code",
   "execution_count": 49,
   "metadata": {},
   "outputs": [],
   "source": [
    "import numpy as np\n",
    "import sympy as smp\n"
   ]
  },
  {
   "cell_type": "code",
   "execution_count": 50,
   "metadata": {},
   "outputs": [
    {
     "data": {
      "text/latex": [
       "$\\displaystyle u$"
      ],
      "text/plain": [
       "u"
      ]
     },
     "execution_count": 50,
     "metadata": {},
     "output_type": "execute_result"
    }
   ],
   "source": [
    "a,b,h,mu,n,m,omega = smp.symbols(\"a b h u n m w\")\n",
    "mu"
   ]
  },
  {
   "cell_type": "code",
   "execution_count": 51,
   "metadata": {},
   "outputs": [],
   "source": [
    "x = -(15*a**2/(14*h*omega))*(h/(mu*m))**2*(m**2+m+(1/30))\n",
    "e = h*omega*(n-m)\n",
    "\n"
   ]
  },
  {
   "cell_type": "code",
   "execution_count": 52,
   "metadata": {},
   "outputs": [
    {
     "data": {
      "text/latex": [
       "$\\displaystyle - \\frac{15 a^{2} \\left(a^{2} \\left(15 m^{2} + 15 m + 0.5\\right) - 14 m^{2} u^{2} w^{2} \\left(m - n\\right)\\right) \\left(m^{2} + m + 0.0333333333333333\\right)}{196 m^{4} u^{4} w^{4} \\left(m - n\\right)^{2}}$"
      ],
      "text/plain": [
       "-15*a**2*(a**2*(15*m**2 + 15*m + 0.5) - 14*m**2*u**2*w**2*(m - n))*(m**2 + m + 0.0333333333333333)/(196*m**4*u**4*w**4*(m - n)**2)"
      ]
     },
     "execution_count": 52,
     "metadata": {},
     "output_type": "execute_result"
    }
   ],
   "source": [
    "y = (x/e*(1-x/e)).simplify().simplify().simplify()\n",
    "y"
   ]
  },
  {
   "cell_type": "code",
   "execution_count": 53,
   "metadata": {},
   "outputs": [
    {
     "data": {
      "text/latex": [
       "$\\displaystyle \\frac{225 a^{4} \\left(m^{2} + m + 0.0333333333333333\\right)^{2}}{196 m^{4} u^{4} w^{4} \\left(- m + n\\right)^{2}}$"
      ],
      "text/plain": [
       "225*a**4*(m**2 + m + 0.0333333333333333)**2/(196*m**4*u**4*w**4*(-m + n)**2)"
      ]
     },
     "execution_count": 53,
     "metadata": {},
     "output_type": "execute_result"
    }
   ],
   "source": [
    "z = x*x/(e*e)\n",
    "z"
   ]
  },
  {
   "cell_type": "code",
   "execution_count": null,
   "metadata": {},
   "outputs": [],
   "source": []
  }
 ],
 "metadata": {
  "kernelspec": {
   "display_name": ".venv",
   "language": "python",
   "name": "python3"
  },
  "language_info": {
   "codemirror_mode": {
    "name": "ipython",
    "version": 3
   },
   "file_extension": ".py",
   "mimetype": "text/x-python",
   "name": "python",
   "nbconvert_exporter": "python",
   "pygments_lexer": "ipython3",
   "version": "3.12.3"
  }
 },
 "nbformat": 4,
 "nbformat_minor": 2
}
